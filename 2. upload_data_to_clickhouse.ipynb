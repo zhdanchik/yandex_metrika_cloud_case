{
 "cells": [
  {
   "cell_type": "code",
   "execution_count": 28,
   "id": "0c8dd6ec-1303-42ab-b1dd-c3b65d2f4f25",
   "metadata": {
    "cellId": "ubdm34mqb4gerdc6flca4g"
   },
   "outputs": [
    {
     "name": "stdout",
     "output_type": "stream",
     "text": [
      "/home/jupyter/work/resources/yandex_metrika_cloud_case\n"
     ]
    }
   ],
   "source": [
    "import os\n",
    "print(os.getcwd())"
   ]
  },
  {
   "cell_type": "code",
   "execution_count": 5,
   "id": "f45444e6-0368-4645-b98b-543927fb8b95",
   "metadata": {
    "cellId": "wspmvrvonf8541vx2hr1g3"
   },
   "outputs": [],
   "source": [
    "import pandas as pd\n",
    "import requests"
   ]
  },
  {
   "cell_type": "markdown",
   "id": "52539787-7c48-4350-b102-c4c22f5e98a6",
   "metadata": {
    "cellId": "wreprjqf8bt42nn7neeh"
   },
   "source": [
    "# Загрузка данных в `ClickHouse`\n"
   ]
  },
  {
   "cell_type": "code",
   "execution_count": 16,
   "id": "a1e680d5-a213-473a-a5b1-a8a093ff55cb",
   "metadata": {
    "cellId": "492dpevey0pypoa2cgskaa"
   },
   "outputs": [],
   "source": [
    "hits_df = pd.read_csv('metrika_cloud_case_data_hits.csv', sep = '\\t')\n",
    "visits_df = pd.read_csv('metrika_cloud_case_data_visits.csv', sep = '\\t')"
   ]
  },
  {
   "cell_type": "markdown",
   "id": "2af4827c-92bd-4092-80ee-94d62aa954a1",
   "metadata": {
    "cellId": "yegvfx0wj45mflti8e78j"
   },
   "source": [
    "## Подключение и настройка\n",
    "https://cloud.yandex.ru/docs/managed-clickhouse/\n",
    "(см. слайды)\n",
    "\n",
    "## Данные для доступа\n",
    "* Из интерфейса облака в разделе хосты копируем имя хост в переменную `CH_HOST_NAME`\n",
    "* Используем заведенного юзера в переменной `CH_USER`\n",
    "* Используем заведенного юзера в переменной `CH_USER`\n",
    "\n",
    "* Сохраним пароль заведенного пользователя в текстовый файл `.chpass.txt`\n",
    "* В переменную `CH_PASS` считаем содержимое файла `.chpass.txt`\n",
    "* В переменную `cacert` поместим путь к сертификату для подключения к серверу. Файл `YandexInternalRootCA.crt` должен лежать в репозитории"
   ]
  },
  {
   "cell_type": "code",
   "execution_count": 3,
   "id": "d82b1b6c-c3b7-40f9-968c-154bac4b2e2a",
   "metadata": {
    "cellId": "r4pl8p68di0nd27pljs5tf"
   },
   "outputs": [],
   "source": [
    "#----------Вводить свои данные в нижние 3 переменные--------------\n",
    "CH_HOST_NAME = 'rc1b-bbmw2gw58fm2dbeb.mdb.yandexcloud.net'\n",
    "CH_USER      = 'z_sergey'\n",
    "CH_DB_NAME   = 'metrica_data'\n",
    "\n",
    "#-------------------------------------------\n",
    "CH_PASS      = open('../.chpass.txt').read().strip()\n",
    "CH_HOST      = f'https://{CH_HOST_NAME}:8443'\n",
    "CH_CASERT    = 'YandexInternalRootCA.crt'"
   ]
  },
  {
   "cell_type": "markdown",
   "id": "30478677-b04d-4302-a180-1f07c79cbc16",
   "metadata": {
    "cellId": "s3kqdy5uavly0d51ne6gcn"
   },
   "source": [
    "##  Функции для интеграции с ClickHouse\n",
    "\n",
    "В файле `some_funcs` есть класс `simple_ch_client` для работы с ClickHouse\n",
    "\n",
    "Сначала надо создать экземпляр класса, инициализировав его начальными параметрами - хост, пользователь, пароль и путь к сертификату\n",
    "`simple_ch_client(CH_HOST, CH_USER, CH_PASS, cacert)`\n",
    "\n",
    "В классе есть 4 метода:\n",
    "* `.get_version()` - получает текущую версию ClickHouse. Хороший способ проверить, что указанные при инициализации параметры работают\n",
    "* `.get_clickhouse_data(query)` - выполняет запрос `query` и возвращает результат в текстовом формате\n",
    "* `.get_clickhouse_df(query)` - выполняет запрос `query` и возвращает результат в виде DataFrame\n",
    "* `.upload(table, content)` - загружает таблицу `content`, которая подается в текстовом формате в таблицу ClickHouse'а с именем `table`\n",
    "\n",
    "\n",
    "## Проверяем ClickHouse\n",
    "Используя заготовленные выше переменные, проверим доступ до сервера (как в документации https://cloud.yandex.ru/docs/managed-clickhouse/operations/connect#connection-string)\n",
    "Этот метод реализован в методе `.get_version()` класса для работы с ClickHouse\n",
    "При успешном подключении не произойдет никакой ошибки при выполнении этого метода, и он сам вернет версию сервера ClickHouse (например `21.3.2.5`)"
   ]
  },
  {
   "cell_type": "code",
   "execution_count": 13,
   "id": "7e598ec3-ccbd-441c-9d6a-70d31f6a6f6a",
   "metadata": {
    "cellId": "lk53dj4ybqgfrvp9c0qm1e"
   },
   "outputs": [],
   "source": [
    "import some_funcs\n",
    "from some_funcs import simple_ch_client"
   ]
  },
  {
   "cell_type": "code",
   "execution_count": 14,
   "id": "29f55e14-c33f-440c-b2d8-66141dcaf050",
   "metadata": {
    "cellId": "4964g8ielepkk9k6arkpaf"
   },
   "outputs": [],
   "source": [
    "my_client = simple_ch_client(CH_HOST, CH_USER, CH_PASS, CH_CASERT)"
   ]
  },
  {
   "cell_type": "code",
   "execution_count": 15,
   "id": "16d6810e-b14d-49fd-ac24-dfdbd3c359f9",
   "metadata": {
    "cellId": "sk4o6xwcz5cmfkpd2lomi"
   },
   "outputs": [
    {
     "name": "stdout",
     "output_type": "stream",
     "text": [
      "21.3.2.5\n",
      "\n"
     ]
    }
   ],
   "source": [
    "my_client.get_version()"
   ]
  },
  {
   "cell_type": "markdown",
   "id": "bc1483a6-1e41-4472-9d61-a7355fc2e65b",
   "metadata": {
    "cellId": "8anpamp6qa84qoo49fmw1g"
   },
   "source": [
    "### Загружаем данные"
   ]
  },
  {
   "cell_type": "markdown",
   "id": "f960494d-6f3a-48fb-bcb9-680f7f7b2726",
   "metadata": {
    "cellId": "wvy1fsvf35ssi7o13qp5s"
   },
   "source": [
    "#### Хиты"
   ]
  },
  {
   "cell_type": "code",
   "execution_count": 17,
   "id": "78b2934c-47d0-457e-8cb4-bc514512e433",
   "metadata": {
    "cellId": "7t1lmuk1o1d7ewg5px0sy4"
   },
   "outputs": [
    {
     "data": {
      "text/html": [
       "<div>\n",
       "<style scoped>\n",
       "    .dataframe tbody tr th:only-of-type {\n",
       "        vertical-align: middle;\n",
       "    }\n",
       "\n",
       "    .dataframe tbody tr th {\n",
       "        vertical-align: top;\n",
       "    }\n",
       "\n",
       "    .dataframe thead th {\n",
       "        text-align: right;\n",
       "    }\n",
       "</style>\n",
       "<table border=\"1\" class=\"dataframe\">\n",
       "  <thead>\n",
       "    <tr style=\"text-align: right;\">\n",
       "      <th></th>\n",
       "      <th>ym:pv:browser</th>\n",
       "      <th>ym:pv:clientID</th>\n",
       "      <th>ym:pv:date</th>\n",
       "      <th>ym:pv:dateTime</th>\n",
       "      <th>ym:pv:deviceCategory</th>\n",
       "      <th>ym:pv:lastTrafficSource</th>\n",
       "      <th>ym:pv:operatingSystemRoot</th>\n",
       "      <th>ym:pv:URL</th>\n",
       "    </tr>\n",
       "  </thead>\n",
       "  <tbody>\n",
       "    <tr>\n",
       "      <th>0</th>\n",
       "      <td>chrome</td>\n",
       "      <td>9625353358380463527</td>\n",
       "      <td>2020-07-06</td>\n",
       "      <td>2020-07-06 04:43:20</td>\n",
       "      <td>1</td>\n",
       "      <td>direct</td>\n",
       "      <td>macos</td>\n",
       "      <td>https://supermarket.ru/product_1280</td>\n",
       "    </tr>\n",
       "    <tr>\n",
       "      <th>1</th>\n",
       "      <td>chrome</td>\n",
       "      <td>9625353358380463527</td>\n",
       "      <td>2020-07-06</td>\n",
       "      <td>2020-07-06 04:43:34</td>\n",
       "      <td>1</td>\n",
       "      <td>direct</td>\n",
       "      <td>macos</td>\n",
       "      <td>https://supermarket.ru/product_1280</td>\n",
       "    </tr>\n",
       "    <tr>\n",
       "      <th>2</th>\n",
       "      <td>android_browser</td>\n",
       "      <td>15569343169762640095</td>\n",
       "      <td>2020-07-06</td>\n",
       "      <td>2020-07-06 13:26:04</td>\n",
       "      <td>2</td>\n",
       "      <td>referral</td>\n",
       "      <td>android</td>\n",
       "      <td>https://supermarket.ru/promo_action_2068</td>\n",
       "    </tr>\n",
       "    <tr>\n",
       "      <th>3</th>\n",
       "      <td>chrome</td>\n",
       "      <td>13994713805140870235</td>\n",
       "      <td>2020-07-06</td>\n",
       "      <td>2020-07-06 19:44:03</td>\n",
       "      <td>1</td>\n",
       "      <td>ad</td>\n",
       "      <td>macos</td>\n",
       "      <td>https://supermarket.ru/catalog_category_82</td>\n",
       "    </tr>\n",
       "    <tr>\n",
       "      <th>4</th>\n",
       "      <td>chrome</td>\n",
       "      <td>13994713805140870235</td>\n",
       "      <td>2020-07-06</td>\n",
       "      <td>2020-07-06 19:44:23</td>\n",
       "      <td>1</td>\n",
       "      <td>ad</td>\n",
       "      <td>macos</td>\n",
       "      <td>https://supermarket.ru/catalog_category_82</td>\n",
       "    </tr>\n",
       "  </tbody>\n",
       "</table>\n",
       "</div>"
      ],
      "text/plain": [
       "     ym:pv:browser        ym:pv:clientID  ym:pv:date       ym:pv:dateTime  \\\n",
       "0           chrome   9625353358380463527  2020-07-06  2020-07-06 04:43:20   \n",
       "1           chrome   9625353358380463527  2020-07-06  2020-07-06 04:43:34   \n",
       "2  android_browser  15569343169762640095  2020-07-06  2020-07-06 13:26:04   \n",
       "3           chrome  13994713805140870235  2020-07-06  2020-07-06 19:44:03   \n",
       "4           chrome  13994713805140870235  2020-07-06  2020-07-06 19:44:23   \n",
       "\n",
       "   ym:pv:deviceCategory ym:pv:lastTrafficSource ym:pv:operatingSystemRoot  \\\n",
       "0                     1                  direct                     macos   \n",
       "1                     1                  direct                     macos   \n",
       "2                     2                referral                   android   \n",
       "3                     1                      ad                     macos   \n",
       "4                     1                      ad                     macos   \n",
       "\n",
       "                                    ym:pv:URL  \n",
       "0         https://supermarket.ru/product_1280  \n",
       "1         https://supermarket.ru/product_1280  \n",
       "2    https://supermarket.ru/promo_action_2068  \n",
       "3  https://supermarket.ru/catalog_category_82  \n",
       "4  https://supermarket.ru/catalog_category_82  "
      ]
     },
     "metadata": {},
     "output_type": "display_data"
    }
   ],
   "source": [
    "hits_df.head()"
   ]
  },
  {
   "cell_type": "code",
   "execution_count": 18,
   "id": "53b0ef53-509c-4479-9563-d296c725dc8e",
   "metadata": {
    "cellId": "4jr2b7d62u32cf8x5rvouo"
   },
   "outputs": [],
   "source": [
    "hits_df.rename(columns={'ym:pv:browser':'Browser',\n",
    "                'ym:pv:clientID':'ClientID',\n",
    "                'ym:pv:date':'EventDate',\n",
    "                'ym:pv:dateTime':'EventTime',\n",
    "                'ym:pv:deviceCategory':'DeviceCategory',\n",
    "                'ym:pv:lastTrafficSource':'TraficSource',\n",
    "                'ym:pv:operatingSystemRoot':'OSRoot',\n",
    "                'ym:pv:URL':'URL'}, inplace = True)"
   ]
  },
  {
   "cell_type": "code",
   "execution_count": 19,
   "id": "0f4b995e-7540-4779-8c59-25b80bdf8a4a",
   "metadata": {
    "cellId": "6iukecu0a0qx0sqnaq0wmn"
   },
   "outputs": [
    {
     "data": {
      "text/plain": [
       "''"
      ]
     },
     "metadata": {},
     "output_type": "display_data"
    }
   ],
   "source": [
    "q = f'drop table if exists {CH_DB_NAME}.hits '\n",
    "my_client.get_clickhouse_data(q)\n",
    "\n",
    "q = f'''\n",
    "create table {CH_DB_NAME}.hits (\n",
    "    Browser String,\n",
    "    ClientID UInt64,\n",
    "    EventDate Date,\n",
    "    EventTime DateTime,\n",
    "    DeviceCategory String,\n",
    "    TraficSource String,\n",
    "    OSRoot String,\n",
    "    URL String\n",
    ") ENGINE = MergeTree()\n",
    "ORDER BY (EventDate, intHash32(ClientID))\n",
    "PARTITION BY EventDate\n",
    "SAMPLE BY intHash32(ClientID)\n",
    "'''\n",
    "\n",
    "my_client.get_clickhouse_data(q)"
   ]
  },
  {
   "cell_type": "code",
   "execution_count": 20,
   "id": "2835513a-7036-49ed-bfcd-7056a1935658",
   "metadata": {
    "cellId": "1px9bfsqa6ocywnvdvrikm"
   },
   "outputs": [
    {
     "data": {
      "text/plain": [
       "''"
      ]
     },
     "metadata": {},
     "output_type": "display_data"
    }
   ],
   "source": [
    "my_client.upload(\n",
    "    f'{CH_DB_NAME}.hits',\n",
    "    hits_df.to_csv(index = False, sep = '\\t'))"
   ]
  },
  {
   "cell_type": "markdown",
   "id": "ac921d70-6893-4f7b-84e0-a539782d4022",
   "metadata": {
    "cellId": "lpvao2nwnae2voj0sjld"
   },
   "source": [
    "#### Визиты"
   ]
  },
  {
   "cell_type": "code",
   "execution_count": 21,
   "id": "9df45f62-1f4a-4f3f-9513-b15028904044",
   "metadata": {
    "cellId": "r6hl70l5fe86n5wa4wmxl"
   },
   "outputs": [
    {
     "data": {
      "text/html": [
       "<div>\n",
       "<style scoped>\n",
       "    .dataframe tbody tr th:only-of-type {\n",
       "        vertical-align: middle;\n",
       "    }\n",
       "\n",
       "    .dataframe tbody tr th {\n",
       "        vertical-align: top;\n",
       "    }\n",
       "\n",
       "    .dataframe thead th {\n",
       "        text-align: right;\n",
       "    }\n",
       "</style>\n",
       "<table border=\"1\" class=\"dataframe\">\n",
       "  <thead>\n",
       "    <tr style=\"text-align: right;\">\n",
       "      <th></th>\n",
       "      <th>ym:s:browser</th>\n",
       "      <th>ym:s:clientID</th>\n",
       "      <th>ym:s:date</th>\n",
       "      <th>ym:s:dateTime</th>\n",
       "      <th>ym:s:deviceCategory</th>\n",
       "      <th>ym:s:lastTrafficSource</th>\n",
       "      <th>ym:s:operatingSystemRoot</th>\n",
       "      <th>ym:s:purchaseID</th>\n",
       "      <th>ym:s:purchaseRevenue</th>\n",
       "      <th>ym:s:startURL</th>\n",
       "    </tr>\n",
       "  </thead>\n",
       "  <tbody>\n",
       "    <tr>\n",
       "      <th>0</th>\n",
       "      <td>chrome</td>\n",
       "      <td>12267275798148517398</td>\n",
       "      <td>2020-09-18</td>\n",
       "      <td>2020-09-18 10:40:59</td>\n",
       "      <td>1</td>\n",
       "      <td>internal</td>\n",
       "      <td>windows</td>\n",
       "      <td>['16891366513471468610']</td>\n",
       "      <td>[10767]</td>\n",
       "      <td>https://supermarket.ru/search</td>\n",
       "    </tr>\n",
       "    <tr>\n",
       "      <th>1</th>\n",
       "      <td>safari_mobile</td>\n",
       "      <td>10275295047121029551</td>\n",
       "      <td>2020-09-03</td>\n",
       "      <td>2020-09-03 22:55:32</td>\n",
       "      <td>2</td>\n",
       "      <td>organic</td>\n",
       "      <td>ios_double</td>\n",
       "      <td>[]</td>\n",
       "      <td>[]</td>\n",
       "      <td>https://supermarket.ru/product_1798</td>\n",
       "    </tr>\n",
       "    <tr>\n",
       "      <th>2</th>\n",
       "      <td>chrome</td>\n",
       "      <td>16050187229564839418</td>\n",
       "      <td>2020-08-08</td>\n",
       "      <td>2020-08-08 03:46:34</td>\n",
       "      <td>1</td>\n",
       "      <td>direct</td>\n",
       "      <td>gnu_linux</td>\n",
       "      <td>[]</td>\n",
       "      <td>[]</td>\n",
       "      <td>https://supermarket.ru/product_678</td>\n",
       "    </tr>\n",
       "    <tr>\n",
       "      <th>3</th>\n",
       "      <td>chrome</td>\n",
       "      <td>4985086536106220175</td>\n",
       "      <td>2020-08-24</td>\n",
       "      <td>2020-08-24 21:21:35</td>\n",
       "      <td>1</td>\n",
       "      <td>ad</td>\n",
       "      <td>windows</td>\n",
       "      <td>[]</td>\n",
       "      <td>[]</td>\n",
       "      <td>https://supermarket.ru/</td>\n",
       "    </tr>\n",
       "    <tr>\n",
       "      <th>4</th>\n",
       "      <td>miui</td>\n",
       "      <td>6500393564893995094</td>\n",
       "      <td>2020-09-24</td>\n",
       "      <td>2020-09-24 07:00:20</td>\n",
       "      <td>2</td>\n",
       "      <td>direct</td>\n",
       "      <td>android</td>\n",
       "      <td>[]</td>\n",
       "      <td>[]</td>\n",
       "      <td>https://supermarket.ru/promo_action_2160</td>\n",
       "    </tr>\n",
       "  </tbody>\n",
       "</table>\n",
       "</div>"
      ],
      "text/plain": [
       "    ym:s:browser         ym:s:clientID   ym:s:date        ym:s:dateTime  \\\n",
       "0         chrome  12267275798148517398  2020-09-18  2020-09-18 10:40:59   \n",
       "1  safari_mobile  10275295047121029551  2020-09-03  2020-09-03 22:55:32   \n",
       "2         chrome  16050187229564839418  2020-08-08  2020-08-08 03:46:34   \n",
       "3         chrome   4985086536106220175  2020-08-24  2020-08-24 21:21:35   \n",
       "4           miui   6500393564893995094  2020-09-24  2020-09-24 07:00:20   \n",
       "\n",
       "   ym:s:deviceCategory ym:s:lastTrafficSource ym:s:operatingSystemRoot  \\\n",
       "0                    1               internal                  windows   \n",
       "1                    2                organic               ios_double   \n",
       "2                    1                 direct                gnu_linux   \n",
       "3                    1                     ad                  windows   \n",
       "4                    2                 direct                  android   \n",
       "\n",
       "            ym:s:purchaseID ym:s:purchaseRevenue  \\\n",
       "0  ['16891366513471468610']              [10767]   \n",
       "1                        []                   []   \n",
       "2                        []                   []   \n",
       "3                        []                   []   \n",
       "4                        []                   []   \n",
       "\n",
       "                              ym:s:startURL  \n",
       "0             https://supermarket.ru/search  \n",
       "1       https://supermarket.ru/product_1798  \n",
       "2        https://supermarket.ru/product_678  \n",
       "3                   https://supermarket.ru/  \n",
       "4  https://supermarket.ru/promo_action_2160  "
      ]
     },
     "metadata": {},
     "output_type": "display_data"
    }
   ],
   "source": [
    "visits_df.head()"
   ]
  },
  {
   "cell_type": "code",
   "execution_count": 22,
   "id": "80c89623-576b-4208-8dc4-34fde1a2cdf8",
   "metadata": {
    "cellId": "1gjhz9k1a98tcc6ex8tbb"
   },
   "outputs": [],
   "source": [
    "visits_df.rename(columns={'ym:s:browser':'Browser',\n",
    "                'ym:s:clientID':'ClientID',\n",
    "                'ym:s:date':'StartDate',\n",
    "                'ym:s:dateTime':'StartTime',\n",
    "                'ym:s:deviceCategory':'DeviceCategory',\n",
    "                'ym:s:lastTrafficSource':'TraficSource',\n",
    "                'ym:s:operatingSystemRoot':'OSRoot',\n",
    "                'ym:s:purchaseRevenue': 'Purchase.Revenue', \n",
    "                'ym:s:purchaseID': 'Purchase.ID',\n",
    "                'ym:s:startURL':'StartURL'}, inplace = True)"
   ]
  },
  {
   "cell_type": "code",
   "execution_count": 23,
   "id": "2ac25da0-3710-46a2-960b-2efc0cbe688c",
   "metadata": {
    "cellId": "png6cup6le9sln0fe097nn"
   },
   "outputs": [],
   "source": [
    "visits_df['Purchases'] = visits_df['Purchase.Revenue'].map(lambda x: x.count(',') + 1 if x != '[]' else 0 )\n",
    "visits_df['Revenue'] = visits_df['Purchase.Revenue'].map(lambda x: sum(map(int,x[1:-1].split(','))) if x != '[]' else 0)"
   ]
  },
  {
   "cell_type": "code",
   "execution_count": 24,
   "id": "c2c2e606-3327-4e48-91d0-4accfc319690",
   "metadata": {
    "cellId": "zf989e26b48yo04lmsdfr"
   },
   "outputs": [],
   "source": [
    "visits_df.drop(columns=['Purchase.ID','Purchase.Revenue'], inplace=True)"
   ]
  },
  {
   "cell_type": "code",
   "execution_count": 25,
   "id": "1694e9cd-63bd-4c6a-b152-ea78982bcb71",
   "metadata": {
    "cellId": "4fizc0lqdmld5o1xepj24"
   },
   "outputs": [
    {
     "data": {
      "text/plain": [
       "''"
      ]
     },
     "metadata": {},
     "output_type": "display_data"
    }
   ],
   "source": [
    "q = f'drop table if exists {CH_DB_NAME}.visits '\n",
    "my_client.get_clickhouse_data(q)\n",
    "\n",
    "q = f'''\n",
    "create table {CH_DB_NAME}.visits (\n",
    "    Browser String,\n",
    "    ClientID UInt64,\n",
    "    StartDate Date,\n",
    "    StartTime DateTime,\n",
    "    DeviceCategory UInt8,\n",
    "    TraficSource String,\n",
    "    OSRoot String,\n",
    "    Purchases Int32,\n",
    "    Revenue Double,\n",
    "    StartURL String\n",
    ") ENGINE = MergeTree()\n",
    "ORDER BY (StartDate, intHash32(ClientID))\n",
    "PARTITION BY StartDate\n",
    "SAMPLE BY intHash32(ClientID)\n",
    "'''\n",
    "\n",
    "my_client.get_clickhouse_data(q)"
   ]
  },
  {
   "cell_type": "code",
   "execution_count": 26,
   "id": "9e77bbf1-4a04-4203-af93-67a0fc61b2fc",
   "metadata": {
    "cellId": "5kd6iyen76pnm7047sda"
   },
   "outputs": [
    {
     "data": {
      "text/plain": [
       "''"
      ]
     },
     "metadata": {},
     "output_type": "display_data"
    }
   ],
   "source": [
    "my_client.upload(\n",
    "    f'{CH_DB_NAME}.visits',\n",
    "    visits_df.to_csv(sep='\\t', index =False))"
   ]
  }
 ],
 "metadata": {
  "kernelspec": {
   "display_name": "Python 3",
   "language": "python",
   "name": "python3"
  },
  "language_info": {
   "codemirror_mode": {
    "name": "ipython",
    "version": 3
   },
   "file_extension": ".py",
   "mimetype": "text/x-python",
   "name": "python",
   "nbconvert_exporter": "python",
   "pygments_lexer": "ipython3",
   "version": "3.7.7"
  },
  "notebookId": "c52b3dde-367b-4033-b442-e5b98b39d692"
 },
 "nbformat": 4,
 "nbformat_minor": 5
}
